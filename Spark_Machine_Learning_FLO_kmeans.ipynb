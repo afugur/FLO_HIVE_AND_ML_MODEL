{
 "cells": [
  {
   "cell_type": "markdown",
   "metadata": {},
   "source": [
    "# TASK 1: Preparing Data\n",
    "\n",
    "### Step 1: Start\n",
    "\n",
    "- Download the required Libraries.\n",
    "- Move the data under the datasets folder on HDFS.\n",
    "- Create a Spark session..\n",
    "\n",
    "**Note:** Read the data as `inferSchema` **True**, select `delimiter` according to the relevant csv file."
   ]
  },
  {
   "cell_type": "code",
   "execution_count": 184,
   "metadata": {},
   "outputs": [],
   "source": [
    "import pandas as pd\n",
    "from pyspark.sql import SparkSession, functions as F\n",
    "from pyspark.sql.types import *"
   ]
  },
  {
   "cell_type": "code",
   "execution_count": 186,
   "metadata": {
    "scrolled": true
   },
   "outputs": [
    {
     "name": "stdout",
     "output_type": "stream",
     "text": [
      "Advertising.csv      churn-telecom  flo.csv   retail_db\r\n",
      "Churn_Modelling.csv  flo100k.csv    iris.csv  train.csv\r\n"
     ]
    }
   ],
   "source": [
    "!ls \"/home/train/datasets\""
   ]
  },
  {
   "cell_type": "code",
   "execution_count": 187,
   "metadata": {
    "scrolled": true
   },
   "outputs": [
    {
     "name": "stdout",
     "output_type": "stream",
     "text": [
      "Found 7 items\r\n",
      "-rw-r--r--   1 train supergroup       4556 2020-09-23 20:56 /user/train/datasets/Advertising.csv\r\n",
      "drwxr-xr-x   - train supergroup          0 2020-11-19 21:02 /user/train/datasets/churn-telecom\r\n",
      "-rw-r--r--   1 train supergroup 1568689691 2022-06-07 11:38 /user/train/datasets/flo.csv\r\n",
      "-rw-r--r--   1 train supergroup   19589922 2022-06-07 13:58 /user/train/datasets/flo100k.csv\r\n",
      "-rw-r--r--   1 train supergroup     460676 2022-06-05 09:26 /user/train/datasets/house-prices.csv\r\n",
      "drwxr-xr-x   - train supergroup          0 2020-11-21 11:16 /user/train/datasets/retail_db\r\n",
      "-rw-r--r--   1 train supergroup     460676 2022-06-05 11:15 /user/train/datasets/train.csv\r\n"
     ]
    }
   ],
   "source": [
    "!hdfs dfs -ls '/user/train/datasets/'"
   ]
  },
  {
   "cell_type": "code",
   "execution_count": 189,
   "metadata": {},
   "outputs": [],
   "source": [
    "# Moving data to HDFS\n",
    "!hdfs dfs -put \"/home/train/datasets/flo100k.csv\" \"/user/train/datasets/\""
   ]
  },
  {
   "cell_type": "code",
   "execution_count": 183,
   "metadata": {},
   "outputs": [],
   "source": [
    "import findspark\n",
    "findspark.init('/opt/manual/spark')"
   ]
  },
  {
   "cell_type": "code",
   "execution_count": 185,
   "metadata": {},
   "outputs": [],
   "source": [
    "# Creating or Get Spark Session\n",
    "spark = (\n",
    "    SparkSession.builder\n",
    "    .appName(\"Flo_Clustering\")\n",
    "    .master(\"yarn\")\n",
    "    .config(\"spark.sql.shuffle.partitions\", \"2\")\n",
    "    .getOrCreate())"
   ]
  },
  {
   "cell_type": "code",
   "execution_count": 378,
   "metadata": {},
   "outputs": [],
   "source": [
    "\n",
    "df = (spark.read.format('csv')\n",
    "      .option('header', True)\n",
    "      .option('delimiter', '|')\n",
    "      .option('inferSchema', True)\n",
    "      .load('/user/train/datasets/flo100k.csv')\n",
    "     )"
   ]
  },
  {
   "cell_type": "markdown",
   "metadata": {},
   "source": [
    "### Step 2: Glance\n",
    "Data set;\n",
    "\n",
    "- Your first 5 observations\n",
    "- Total number of observations\n",
    "- Total number of variables\n",
    "- Examine the variable types.."
   ]
  },
  {
   "cell_type": "code",
   "execution_count": 379,
   "metadata": {},
   "outputs": [
    {
     "data": {
      "text/plain": [
       "DataFrame[master_id: string, order_channel: string, platform_type: string, last_order_channel: string, first_order_date: timestamp, last_order_date: timestamp, last_order_date_online: timestamp, last_order_date_offline: timestamp, order_num_total_ever_online: double, order_num_total_ever_offline: double, customer_value_total_ever_offline: double, customer_value_total_ever_online: double, interested_in_categories_12: string, online_product_group_amount_top_name_12: string, offline_product_group_name_12: string, last_order_date_new: string, store_type: string]"
      ]
     },
     "execution_count": 379,
     "metadata": {},
     "output_type": "execute_result"
    }
   ],
   "source": [
    "df.persist()"
   ]
  },
  {
   "cell_type": "code",
   "execution_count": 461,
   "metadata": {
    "scrolled": true
   },
   "outputs": [
    {
     "data": {
      "text/html": [
       "<div>\n",
       "<style scoped>\n",
       "    .dataframe tbody tr th:only-of-type {\n",
       "        vertical-align: middle;\n",
       "    }\n",
       "\n",
       "    .dataframe tbody tr th {\n",
       "        vertical-align: top;\n",
       "    }\n",
       "\n",
       "    .dataframe thead th {\n",
       "        text-align: right;\n",
       "    }\n",
       "</style>\n",
       "<table border=\"1\" class=\"dataframe\">\n",
       "  <thead>\n",
       "    <tr style=\"text-align: right;\">\n",
       "      <th></th>\n",
       "      <th>master_id</th>\n",
       "      <th>order_channel</th>\n",
       "      <th>platform_type</th>\n",
       "      <th>last_order_channel</th>\n",
       "      <th>first_order_date</th>\n",
       "      <th>last_order_date</th>\n",
       "      <th>last_order_date_online</th>\n",
       "      <th>last_order_date_offline</th>\n",
       "      <th>order_num_total_ever_online</th>\n",
       "      <th>order_num_total_ever_offline</th>\n",
       "      <th>customer_value_total_ever_offline</th>\n",
       "      <th>customer_value_total_ever_online</th>\n",
       "      <th>interested_in_categories_12</th>\n",
       "      <th>online_product_group_amount_top_name_12</th>\n",
       "      <th>offline_product_group_name_12</th>\n",
       "      <th>last_order_date_new</th>\n",
       "      <th>store_type</th>\n",
       "      <th>order_num_total</th>\n",
       "      <th>customer_value_total</th>\n",
       "    </tr>\n",
       "  </thead>\n",
       "  <tbody>\n",
       "    <tr>\n",
       "      <th>0</th>\n",
       "      <td>b3ace094-a17f-11e9-a2fc-000d3a38a36f</td>\n",
       "      <td>Offline</td>\n",
       "      <td>Offline</td>\n",
       "      <td>Offline</td>\n",
       "      <td>2019-02-23 12:59:17</td>\n",
       "      <td>2019-02-23 12:59:17</td>\n",
       "      <td>NaT</td>\n",
       "      <td>2019-02-23 12:59:17</td>\n",
       "      <td>0.0</td>\n",
       "      <td>1.0</td>\n",
       "      <td>212.98</td>\n",
       "      <td>0.00</td>\n",
       "      <td>None</td>\n",
       "      <td>None</td>\n",
       "      <td>None</td>\n",
       "      <td>2019-02-23</td>\n",
       "      <td>A</td>\n",
       "      <td>1.0</td>\n",
       "      <td>212.98</td>\n",
       "    </tr>\n",
       "    <tr>\n",
       "      <th>1</th>\n",
       "      <td>c57d7c4c-a950-11e9-a2fc-000d3a38a36f</td>\n",
       "      <td>Offline</td>\n",
       "      <td>OmniChannel</td>\n",
       "      <td>Offline</td>\n",
       "      <td>2019-12-01 16:48:09</td>\n",
       "      <td>2019-12-01 16:48:09</td>\n",
       "      <td>NaT</td>\n",
       "      <td>2019-12-01 16:48:09</td>\n",
       "      <td>0.0</td>\n",
       "      <td>1.0</td>\n",
       "      <td>199.98</td>\n",
       "      <td>0.00</td>\n",
       "      <td>None</td>\n",
       "      <td>None</td>\n",
       "      <td>None</td>\n",
       "      <td>2019-12-01</td>\n",
       "      <td>A</td>\n",
       "      <td>1.0</td>\n",
       "      <td>199.98</td>\n",
       "    </tr>\n",
       "    <tr>\n",
       "      <th>2</th>\n",
       "      <td>602897a6-cdac-11ea-b31f-000d3a38a36f</td>\n",
       "      <td>Offline</td>\n",
       "      <td>Offline</td>\n",
       "      <td>Offline</td>\n",
       "      <td>2020-07-24 15:49:47</td>\n",
       "      <td>2020-07-24 15:49:47</td>\n",
       "      <td>NaT</td>\n",
       "      <td>2020-07-24 15:49:47</td>\n",
       "      <td>0.0</td>\n",
       "      <td>1.0</td>\n",
       "      <td>140.49</td>\n",
       "      <td>0.00</td>\n",
       "      <td>[ERKEK]</td>\n",
       "      <td>None</td>\n",
       "      <td>ERKEK</td>\n",
       "      <td>2020-07-24</td>\n",
       "      <td>A</td>\n",
       "      <td>1.0</td>\n",
       "      <td>140.49</td>\n",
       "    </tr>\n",
       "    <tr>\n",
       "      <th>3</th>\n",
       "      <td>388e4c4e-af86-11e9-a2fc-000d3a38a36f</td>\n",
       "      <td>Mobile</td>\n",
       "      <td>Online</td>\n",
       "      <td>Mobile</td>\n",
       "      <td>2018-12-31 07:22:07</td>\n",
       "      <td>2018-12-31 07:22:07</td>\n",
       "      <td>2018-12-31 07:22:07</td>\n",
       "      <td>NaT</td>\n",
       "      <td>1.0</td>\n",
       "      <td>0.0</td>\n",
       "      <td>0.00</td>\n",
       "      <td>174.99</td>\n",
       "      <td>None</td>\n",
       "      <td>None</td>\n",
       "      <td>None</td>\n",
       "      <td>2018-12-31</td>\n",
       "      <td>A</td>\n",
       "      <td>1.0</td>\n",
       "      <td>174.99</td>\n",
       "    </tr>\n",
       "    <tr>\n",
       "      <th>4</th>\n",
       "      <td>80664354-adf0-11eb-8f64-000d3a299ebf</td>\n",
       "      <td>Desktop</td>\n",
       "      <td>Online</td>\n",
       "      <td>Desktop</td>\n",
       "      <td>2021-05-05 21:07:02</td>\n",
       "      <td>2021-05-05 22:39:36</td>\n",
       "      <td>2021-05-05 22:39:36</td>\n",
       "      <td>NaT</td>\n",
       "      <td>2.0</td>\n",
       "      <td>0.0</td>\n",
       "      <td>0.00</td>\n",
       "      <td>283.95</td>\n",
       "      <td>[]</td>\n",
       "      <td>None</td>\n",
       "      <td>None</td>\n",
       "      <td>2021-05-05</td>\n",
       "      <td>A</td>\n",
       "      <td>2.0</td>\n",
       "      <td>283.95</td>\n",
       "    </tr>\n",
       "  </tbody>\n",
       "</table>\n",
       "</div>"
      ],
      "text/plain": [
       "                              master_id order_channel platform_type  \\\n",
       "0  b3ace094-a17f-11e9-a2fc-000d3a38a36f       Offline       Offline   \n",
       "1  c57d7c4c-a950-11e9-a2fc-000d3a38a36f       Offline   OmniChannel   \n",
       "2  602897a6-cdac-11ea-b31f-000d3a38a36f       Offline       Offline   \n",
       "3  388e4c4e-af86-11e9-a2fc-000d3a38a36f        Mobile        Online   \n",
       "4  80664354-adf0-11eb-8f64-000d3a299ebf       Desktop        Online   \n",
       "\n",
       "  last_order_channel    first_order_date     last_order_date  \\\n",
       "0            Offline 2019-02-23 12:59:17 2019-02-23 12:59:17   \n",
       "1            Offline 2019-12-01 16:48:09 2019-12-01 16:48:09   \n",
       "2            Offline 2020-07-24 15:49:47 2020-07-24 15:49:47   \n",
       "3             Mobile 2018-12-31 07:22:07 2018-12-31 07:22:07   \n",
       "4            Desktop 2021-05-05 21:07:02 2021-05-05 22:39:36   \n",
       "\n",
       "  last_order_date_online last_order_date_offline  order_num_total_ever_online  \\\n",
       "0                    NaT     2019-02-23 12:59:17                          0.0   \n",
       "1                    NaT     2019-12-01 16:48:09                          0.0   \n",
       "2                    NaT     2020-07-24 15:49:47                          0.0   \n",
       "3    2018-12-31 07:22:07                     NaT                          1.0   \n",
       "4    2021-05-05 22:39:36                     NaT                          2.0   \n",
       "\n",
       "   order_num_total_ever_offline  customer_value_total_ever_offline  \\\n",
       "0                           1.0                             212.98   \n",
       "1                           1.0                             199.98   \n",
       "2                           1.0                             140.49   \n",
       "3                           0.0                               0.00   \n",
       "4                           0.0                               0.00   \n",
       "\n",
       "   customer_value_total_ever_online interested_in_categories_12  \\\n",
       "0                              0.00                        None   \n",
       "1                              0.00                        None   \n",
       "2                              0.00                     [ERKEK]   \n",
       "3                            174.99                        None   \n",
       "4                            283.95                          []   \n",
       "\n",
       "  online_product_group_amount_top_name_12 offline_product_group_name_12  \\\n",
       "0                                    None                          None   \n",
       "1                                    None                          None   \n",
       "2                                    None                         ERKEK   \n",
       "3                                    None                          None   \n",
       "4                                    None                          None   \n",
       "\n",
       "  last_order_date_new store_type  order_num_total  customer_value_total  \n",
       "0          2019-02-23          A              1.0                212.98  \n",
       "1          2019-12-01          A              1.0                199.98  \n",
       "2          2020-07-24          A              1.0                140.49  \n",
       "3          2018-12-31          A              1.0                174.99  \n",
       "4          2021-05-05          A              2.0                283.95  "
      ]
     },
     "execution_count": 461,
     "metadata": {},
     "output_type": "execute_result"
    }
   ],
   "source": [
    "# Your first 5 observations\n",
    "df.limit(5).toPandas()"
   ]
  },
  {
   "cell_type": "code",
   "execution_count": 462,
   "metadata": {},
   "outputs": [
    {
     "data": {
      "text/plain": [
       "100000"
      ]
     },
     "execution_count": 462,
     "metadata": {},
     "output_type": "execute_result"
    }
   ],
   "source": [
    "# Total number of observations\n",
    "df.count()"
   ]
  },
  {
   "cell_type": "code",
   "execution_count": 463,
   "metadata": {},
   "outputs": [
    {
     "data": {
      "text/plain": [
       "19"
      ]
     },
     "execution_count": 463,
     "metadata": {},
     "output_type": "execute_result"
    }
   ],
   "source": [
    "# Total number of variables\n",
    "len(df.columns)"
   ]
  },
  {
   "cell_type": "code",
   "execution_count": 464,
   "metadata": {
    "scrolled": true
   },
   "outputs": [
    {
     "name": "stdout",
     "output_type": "stream",
     "text": [
      "root\n",
      " |-- master_id: string (nullable = true)\n",
      " |-- order_channel: string (nullable = true)\n",
      " |-- platform_type: string (nullable = true)\n",
      " |-- last_order_channel: string (nullable = true)\n",
      " |-- first_order_date: timestamp (nullable = true)\n",
      " |-- last_order_date: timestamp (nullable = true)\n",
      " |-- last_order_date_online: timestamp (nullable = true)\n",
      " |-- last_order_date_offline: timestamp (nullable = true)\n",
      " |-- order_num_total_ever_online: double (nullable = false)\n",
      " |-- order_num_total_ever_offline: double (nullable = false)\n",
      " |-- customer_value_total_ever_offline: double (nullable = false)\n",
      " |-- customer_value_total_ever_online: double (nullable = false)\n",
      " |-- interested_in_categories_12: string (nullable = true)\n",
      " |-- online_product_group_amount_top_name_12: string (nullable = true)\n",
      " |-- offline_product_group_name_12: string (nullable = true)\n",
      " |-- last_order_date_new: string (nullable = true)\n",
      " |-- store_type: string (nullable = true)\n",
      " |-- order_num_total: double (nullable = false)\n",
      " |-- customer_value_total: double (nullable = false)\n",
      "\n"
     ]
    }
   ],
   "source": [
    "# Examine the variable types.\n",
    "df.printSchema()"
   ]
  },
  {
   "cell_type": "markdown",
   "metadata": {},
   "source": [
    "### Step 3: Missing observations\n",
    "\n",
    "Examine the missing observations of the variables in the data set."
   ]
  },
  {
   "cell_type": "code",
   "execution_count": 384,
   "metadata": {},
   "outputs": [],
   "source": [
    "def null_count(df, col_name):\n",
    "    nc = df.select(col_name).filter(\n",
    "        (F.col(col_name) == 'NA') |\n",
    "        (F.col(col_name) == '') |\n",
    "        (F.col(col_name).isNull())).count()\n",
    "    \n",
    "    return nc"
   ]
  },
  {
   "cell_type": "code",
   "execution_count": 385,
   "metadata": {
    "scrolled": true
   },
   "outputs": [
    {
     "name": "stdout",
     "output_type": "stream",
     "text": [
      "last_order_date_online has 70784 % 70.784\n",
      "last_order_date_offline has 21703 % 21.703\n",
      "order_num_total_ever_online has 70784 % 70.784\n",
      "order_num_total_ever_offline has 21703 % 21.703\n",
      "interested_in_categories_12 has 56590 % 56.589999999999996\n",
      "online_product_group_amount_top_name_12 has 88295 % 88.295\n",
      "offline_product_group_name_12 has 77209 % 77.209\n"
     ]
    }
   ],
   "source": [
    "for col_name in df.dtypes:\n",
    "    nc = null_count(df, col_name[0])\n",
    "    \n",
    "    if nc > 0:\n",
    "        print(\"{} has {} % {}\".format(col_name[0], nc, (nc/df.count())*100))"
   ]
  },
  {
   "cell_type": "markdown",
   "metadata": {},
   "source": [
    "### GÖREV 2: Veri Analizi\n",
    "### Adım 1: Unique Değişken Kontrolü\n",
    "\n",
    "`master_id` değişkeninin unique olup olmadığını kontrol ediniz."
   ]
  },
  {
   "cell_type": "code",
   "execution_count": 386,
   "metadata": {},
   "outputs": [
    {
     "name": "stdout",
     "output_type": "stream",
     "text": [
      "+-------------------------+\n",
      "|count(DISTINCT master_id)|\n",
      "+-------------------------+\n",
      "|                   100000|\n",
      "+-------------------------+\n",
      "\n"
     ]
    }
   ],
   "source": [
    "# master_id değişkeninin unique sayısı verisetinin toplam satır sayısına eşit olduğu durumda unique olduğundan bahsedebiliriz.\n",
    "from pyspark.sql.functions import countDistinct\n",
    "df.select(countDistinct(\"master_id\")).show()"
   ]
  },
  {
   "cell_type": "code",
   "execution_count": 387,
   "metadata": {},
   "outputs": [
    {
     "data": {
      "text/plain": [
       "100000"
      ]
     },
     "execution_count": 387,
     "metadata": {},
     "output_type": "execute_result"
    }
   ],
   "source": [
    "df.count()"
   ]
  },
  {
   "cell_type": "markdown",
   "metadata": {},
   "source": [
    "### Adım2: Veriyi Anlama - Groupby\n",
    " `platform_type` & `order_channel` kırılımında gözlem sayılarına bakınız."
   ]
  },
  {
   "cell_type": "code",
   "execution_count": 388,
   "metadata": {},
   "outputs": [
    {
     "name": "stdout",
     "output_type": "stream",
     "text": [
      "+-------------+-------------+-----+\n",
      "|platform_type|order_channel|count|\n",
      "+-------------+-------------+-----+\n",
      "|  OmniChannel|      Offline| 4793|\n",
      "|       Online|      Ios App| 3008|\n",
      "|      Offline|      Offline|65991|\n",
      "|       Online|       Mobile| 6451|\n",
      "|       Online|      Desktop| 3253|\n",
      "|       Online|  Android App| 8728|\n",
      "|  OmniChannel|       Mobile| 2061|\n",
      "|  OmniChannel|  Android App| 3261|\n",
      "|  OmniChannel|      Ios App|  956|\n",
      "|  OmniChannel|      Desktop| 1498|\n",
      "+-------------+-------------+-----+\n",
      "\n"
     ]
    }
   ],
   "source": [
    "df.groupby([\"platform_type\",\"order_channel\"]).count().show()"
   ]
  },
  {
   "cell_type": "markdown",
   "metadata": {},
   "source": [
    "### Adım 3: Omnichannel\n",
    "- Omnichannel müşterilerin hem online'dan hem de offline platformlardan alışveriş yaptığını ifade etmektedir. \n",
    "- Herbir müşterinin toplam alışveriş sayısı ve harcaması için yeni değişkenler oluşturunuz.\n",
    "    - toplam alışveriş sayısı için değişken ismini `order_num_total` yapınız.\n",
    "    - toplam harcama için değişken ismini `customer_value_total` yapınız\n",
    "\n",
    "**Not:** Yeni değişkenleri oluşturmadan önce bu değişkenlerin null değerlerini sıfıra çeviriniz ve tüm değerlerinin sıfıra eşit veya büyük olduğuna emin olunuz."
   ]
  },
  {
   "cell_type": "code",
   "execution_count": 390,
   "metadata": {},
   "outputs": [],
   "source": [
    "# NA değerleri 0 ile doldurma\n",
    "df = df.na.fill(value=0,\n",
    "                subset=[\"order_num_total_ever_online\", \"order_num_total_ever_offline\",\n",
    "                        \"customer_value_total_ever_offline\",\"customer_value_total_ever_online\"])"
   ]
  },
  {
   "cell_type": "code",
   "execution_count": 391,
   "metadata": {},
   "outputs": [],
   "source": [
    "# Sıfıra eşit veya büyük olduğuna emin olmak için filtreleyelim.\n",
    "df = df.filter((df.order_num_total_ever_online >= 0 ) & \n",
    "                           (df.order_num_total_ever_offline >= 0) & \n",
    "                           (df.customer_value_total_ever_offline >= 0) & \n",
    "                           (df.customer_value_total_ever_online >= 0))"
   ]
  },
  {
   "cell_type": "code",
   "execution_count": 392,
   "metadata": {},
   "outputs": [],
   "source": [
    "# order_num_total değişkenini oluşturma\n",
    "df = df.withColumn('order_num_total',\n",
    "                   df.order_num_total_ever_online + df.order_num_total_ever_offline)\n"
   ]
  },
  {
   "cell_type": "code",
   "execution_count": 393,
   "metadata": {},
   "outputs": [],
   "source": [
    "# customer_value_total değişkenini oluşturma\n",
    "df = df.withColumn('customer_value_total', \n",
    "                   df.customer_value_total_ever_offline + df.customer_value_total_ever_online)"
   ]
  },
  {
   "cell_type": "markdown",
   "metadata": {},
   "source": [
    "### Adım 4: Satış Değerleri\n",
    "\n",
    "Kanallardaki toplam müşteri , ortalama alınan ürün ve kazanç dağılıma bakınız."
   ]
  },
  {
   "cell_type": "code",
   "execution_count": 394,
   "metadata": {},
   "outputs": [
    {
     "name": "stdout",
     "output_type": "stream",
     "text": [
      "+-------------+----------------+-------------------------+--------------------+\n",
      "|order_channel|count(master_id)|avg(customer_value_total)|avg(order_num_total)|\n",
      "+-------------+----------------+-------------------------+--------------------+\n",
      "|      Offline|           70784|       218.16394849129728|  1.6003475361663653|\n",
      "|      Ios App|            3964|        568.4640312815283|   3.377648839556004|\n",
      "|       Mobile|            8512|        391.7418761748012|   2.798637218045113|\n",
      "|  Android App|           11989|        532.8462840937639|    3.50971724080407|\n",
      "|      Desktop|            4751|       376.91355504103785|   2.538623447695222|\n",
      "+-------------+----------------+-------------------------+--------------------+\n",
      "\n"
     ]
    }
   ],
   "source": [
    "df.groupby(\"order_channel\").agg({\"master_id\" : \"count\", \n",
    "                                 \"order_num_total\":\"mean\",\n",
    "                                 \"customer_value_total\":\"mean\"}).show()"
   ]
  },
  {
   "cell_type": "markdown",
   "metadata": {},
   "source": [
    "### Adım 5: Platforma göre satış değerleri\n",
    "\n",
    "Platformlardaki toplam müşteri , ortalama alınan ürün ve kazanç dağılıma bakınız."
   ]
  },
  {
   "cell_type": "code",
   "execution_count": 395,
   "metadata": {},
   "outputs": [
    {
     "name": "stdout",
     "output_type": "stream",
     "text": [
      "+-------------+----------------+-------------------------+--------------------+\n",
      "|platform_type|count(master_id)|avg(customer_value_total)|avg(order_num_total)|\n",
      "+-------------+----------------+-------------------------+--------------------+\n",
      "|      Offline|           65991|        215.7303068601296|  1.5837917291751906|\n",
      "|  OmniChannel|           12569|        500.7937512928769|  3.4947092051873656|\n",
      "|       Online|           21440|        404.7896576492903|  2.6207089552238805|\n",
      "+-------------+----------------+-------------------------+--------------------+\n",
      "\n"
     ]
    }
   ],
   "source": [
    "df.groupby(\"platform_type\").agg({\"master_id\" : \"count\", \n",
    "                                 \"order_num_total\":\"mean\",\n",
    "                                 \"customer_value_total\":\"mean\"}).show()"
   ]
  },
  {
   "cell_type": "markdown",
   "metadata": {},
   "source": [
    "## GÖREV 3: K-Means Metriklerinin Hesaplanması"
   ]
  },
  {
   "cell_type": "markdown",
   "metadata": {},
   "source": [
    "### 1. RFM \n",
    "\n",
    "`master_id`, `last_order_date_new`, `order_num_total`, `customer_value_total` değişkenlerinden `rfm` adında yeni bir değişken oluşturunuz."
   ]
  },
  {
   "cell_type": "code",
   "execution_count": 396,
   "metadata": {},
   "outputs": [],
   "source": [
    "rfm = df[[\"master_id\",\"last_order_date_new\", \"order_num_total\",\"customer_value_total\"]]"
   ]
  },
  {
   "cell_type": "code",
   "execution_count": 397,
   "metadata": {},
   "outputs": [
    {
     "name": "stdout",
     "output_type": "stream",
     "text": [
      "+--------------------+-------------------+---------------+--------------------+\n",
      "|           master_id|last_order_date_new|order_num_total|customer_value_total|\n",
      "+--------------------+-------------------+---------------+--------------------+\n",
      "|b3ace094-a17f-11e...|         2019-02-23|            1.0|              212.98|\n",
      "|c57d7c4c-a950-11e...|         2019-12-01|            1.0|              199.98|\n",
      "|602897a6-cdac-11e...|         2020-07-24|            1.0|              140.49|\n",
      "|388e4c4e-af86-11e...|         2018-12-31|            1.0|              174.99|\n",
      "|80664354-adf0-11e...|         2021-05-05|            2.0|              283.95|\n",
      "+--------------------+-------------------+---------------+--------------------+\n",
      "only showing top 5 rows\n",
      "\n"
     ]
    }
   ],
   "source": [
    "rfm.show(5)"
   ]
  },
  {
   "cell_type": "markdown",
   "metadata": {},
   "source": [
    "### Adım 2: Son satın alım tarihi \n",
    "\n",
    "`last_order_date` değişkeni üzerinden son satın alım tarihini bulunuz"
   ]
  },
  {
   "cell_type": "code",
   "execution_count": 398,
   "metadata": {},
   "outputs": [
    {
     "data": {
      "text/plain": [
       "datetime.date(2021, 5, 30)"
      ]
     },
     "execution_count": 398,
     "metadata": {},
     "output_type": "execute_result"
    }
   ],
   "source": [
    "# Son satın alım tarihi\n",
    "last_order_date = df.agg({\"last_order_date\": \"max\"}).collect()[0][0] # 2021-5-30\n",
    "last_order_date.date()"
   ]
  },
  {
   "cell_type": "markdown",
   "metadata": {},
   "source": [
    "### Adım 3: Recency \n",
    "\n",
    "Son satın alım tarihinden iki gün sonrası üzerinden, her müşterinin son satın alma sürelelerini gün cinsinden hesaplayıp,`Recency` adında bir değişkende kaydediniz"
   ]
  },
  {
   "cell_type": "code",
   "execution_count": 399,
   "metadata": {
    "scrolled": true
   },
   "outputs": [
    {
     "name": "stdout",
     "output_type": "stream",
     "text": [
      "+--------------------+-------------------+---------------+--------------------+-------+\n",
      "|           master_id|last_order_date_new|order_num_total|customer_value_total|Recency|\n",
      "+--------------------+-------------------+---------------+--------------------+-------+\n",
      "|b3ace094-a17f-11e...|         2019-02-23|            1.0|              212.98|    829|\n",
      "|c57d7c4c-a950-11e...|         2019-12-01|            1.0|              199.98|    548|\n",
      "|602897a6-cdac-11e...|         2020-07-24|            1.0|              140.49|    312|\n",
      "|388e4c4e-af86-11e...|         2018-12-31|            1.0|              174.99|    883|\n",
      "|80664354-adf0-11e...|         2021-05-05|            2.0|              283.95|     27|\n",
      "+--------------------+-------------------+---------------+--------------------+-------+\n",
      "only showing top 5 rows\n",
      "\n"
     ]
    }
   ],
   "source": [
    "from pyspark.sql.functions import expr\n",
    "\n",
    "rfm = rfm.withColumn(\"Recency\", expr(\"datediff('2021-6-1', last_order_date_new)\"))\n",
    "rfm.show(5)"
   ]
  },
  {
   "cell_type": "markdown",
   "metadata": {},
   "source": [
    "### Adım 4: Yeniden isimlendirme \n",
    "\n",
    "- `order_num_total` değişkenini `Frequency` \n",
    "- `customer_value_total` değişkenini `Monetary` adında değiştiriniz.\n"
   ]
  },
  {
   "cell_type": "code",
   "execution_count": 400,
   "metadata": {
    "scrolled": true
   },
   "outputs": [
    {
     "name": "stdout",
     "output_type": "stream",
     "text": [
      "+--------------------+-------------------+---------+--------+-------+\n",
      "|           master_id|last_order_date_new|Frequency|Monetary|Recency|\n",
      "+--------------------+-------------------+---------+--------+-------+\n",
      "|b3ace094-a17f-11e...|         2019-02-23|      1.0|  212.98|    829|\n",
      "|c57d7c4c-a950-11e...|         2019-12-01|      1.0|  199.98|    548|\n",
      "|602897a6-cdac-11e...|         2020-07-24|      1.0|  140.49|    312|\n",
      "|388e4c4e-af86-11e...|         2018-12-31|      1.0|  174.99|    883|\n",
      "|80664354-adf0-11e...|         2021-05-05|      2.0|  283.95|     27|\n",
      "+--------------------+-------------------+---------+--------+-------+\n",
      "only showing top 5 rows\n",
      "\n"
     ]
    }
   ],
   "source": [
    "rfm = (rfm.withColumnRenamed(\"order_num_total\",\"Frequency\")\n",
    "       .withColumnRenamed(\"customer_value_total\", \"Monetary\"))\n",
    "       \n",
    "rfm.show(5)"
   ]
  },
  {
   "cell_type": "markdown",
   "metadata": {},
   "source": [
    "### Adım 5: Filtre\n",
    "\n",
    "`last_order_date_new` değişkenini `rfm` dataframeden çıkarınız"
   ]
  },
  {
   "cell_type": "code",
   "execution_count": 401,
   "metadata": {},
   "outputs": [],
   "source": [
    "rfm = rfm.drop(\"last_order_date_new\")"
   ]
  },
  {
   "cell_type": "code",
   "execution_count": 402,
   "metadata": {},
   "outputs": [
    {
     "name": "stdout",
     "output_type": "stream",
     "text": [
      "+--------------------+---------+--------+-------+\n",
      "|           master_id|Frequency|Monetary|Recency|\n",
      "+--------------------+---------+--------+-------+\n",
      "|b3ace094-a17f-11e...|      1.0|  212.98|    829|\n",
      "|c57d7c4c-a950-11e...|      1.0|  199.98|    548|\n",
      "|602897a6-cdac-11e...|      1.0|  140.49|    312|\n",
      "|388e4c4e-af86-11e...|      1.0|  174.99|    883|\n",
      "|80664354-adf0-11e...|      2.0|  283.95|     27|\n",
      "+--------------------+---------+--------+-------+\n",
      "only showing top 5 rows\n",
      "\n"
     ]
    }
   ],
   "source": [
    "rfm.show(5)"
   ]
  },
  {
   "cell_type": "markdown",
   "metadata": {},
   "source": [
    "# GÖREV 4: Modele Hazırlık\n",
    "\n",
    "### Adım 1: Vector Assembler\n",
    "- Recency\n",
    "- Frequency\n",
    "- Monetary \n",
    "\n",
    "değişkenlerine **Vector Assembler** uygulayınız."
   ]
  },
  {
   "cell_type": "code",
   "execution_count": 403,
   "metadata": {},
   "outputs": [],
   "source": [
    "rfm_col = [\"Recency\", \"Frequency\", \"Monetary\"]"
   ]
  },
  {
   "cell_type": "code",
   "execution_count": 404,
   "metadata": {},
   "outputs": [],
   "source": [
    "from pyspark.ml.feature import VectorAssembler\n",
    "\n",
    "assembler =  (VectorAssembler() \\\n",
    "              .setHandleInvalid(\"skip\") \\\n",
    "              .setInputCols(rfm_col) \\\n",
    "              .setOutputCol(\"unscaled_features\"))"
   ]
  },
  {
   "cell_type": "markdown",
   "metadata": {},
   "source": [
    "### Adım 2: Standart Scaler\n",
    "\n",
    "**Vector Assembler** uyguladığınız değişkenlere **Standart Scaler** işlemini uygulayınız."
   ]
  },
  {
   "cell_type": "code",
   "execution_count": 405,
   "metadata": {},
   "outputs": [],
   "source": [
    "from pyspark.ml.feature import StandardScaler\n",
    "scaler = StandardScaler() \\\n",
    ".setInputCol(\"unscaled_features\") \\\n",
    ".setOutputCol(\"features\")"
   ]
  },
  {
   "cell_type": "markdown",
   "metadata": {},
   "source": [
    "### Adım 3: Pipeline\n",
    "\n",
    "rfm dataframeini kullanarak bir Pipeline oluşturunuz."
   ]
  },
  {
   "cell_type": "code",
   "execution_count": 406,
   "metadata": {},
   "outputs": [],
   "source": [
    "from pyspark.ml import Pipeline\n",
    "pipeline_obj = Pipeline().setStages([assembler, scaler])"
   ]
  },
  {
   "cell_type": "code",
   "execution_count": 407,
   "metadata": {},
   "outputs": [
    {
     "name": "stdout",
     "output_type": "stream",
     "text": [
      "+--------------------+---------+--------+-------+------------------+--------------------+\n",
      "|           master_id|Frequency|Monetary|Recency| unscaled_features|            features|\n",
      "+--------------------+---------+--------+-------+------------------+--------------------+\n",
      "|b3ace094-a17f-11e...|      1.0|  212.98|    829|[829.0,1.0,212.98]|[3.24793811935259...|\n",
      "|c57d7c4c-a950-11e...|      1.0|  199.98|    548|[548.0,1.0,199.98]|[2.14700855175539...|\n",
      "|602897a6-cdac-11e...|      1.0|  140.49|    312|[312.0,1.0,140.49]|[1.22238443092642...|\n",
      "|388e4c4e-af86-11e...|      1.0|  174.99|    883|[883.0,1.0,174.99]|[3.45950465547447...|\n",
      "|80664354-adf0-11e...|      2.0|  283.95|     27| [27.0,2.0,283.95]|[0.10578326806094...|\n",
      "+--------------------+---------+--------+-------+------------------+--------------------+\n",
      "only showing top 5 rows\n",
      "\n"
     ]
    }
   ],
   "source": [
    "pipeline_model = pipeline_obj.fit(rfm)\n",
    "\n",
    "transformed_df = pipeline_model.transform(rfm)\n",
    "\n",
    "transformed_df.show(5)\n"
   ]
  },
  {
   "cell_type": "markdown",
   "metadata": {},
   "source": [
    "# GÖREV 5: K-Means \n",
    "\n",
    "### Adım 1: Optimum Küme Sayısı \n",
    "\n",
    "Kmeans küme sayısı ve hatalarını hesaplayıp, bir küme sayısı seçiniz"
   ]
  },
  {
   "cell_type": "code",
   "execution_count": 408,
   "metadata": {},
   "outputs": [],
   "source": [
    "from pyspark.ml.clustering import KMeans\n",
    "\n",
    "def compute_kmeans_model(df,k):\n",
    "    kmeansObject = KMeans() \\\n",
    "    .setSeed(142) \\\n",
    "    .setK(k) \n",
    "    return kmeansObject.fit(df)"
   ]
  },
  {
   "cell_type": "markdown",
   "metadata": {},
   "source": [
    "### Evaluate Model"
   ]
  },
  {
   "cell_type": "code",
   "execution_count": 419,
   "metadata": {
    "scrolled": false
   },
   "outputs": [
    {
     "name": "stdout",
     "output_type": "stream",
     "text": [
      "k: 2, score 0.4403139929816374\n",
      "k: 3, score 0.655033488104594\n",
      "k: 4, score 0.6658979549823151\n",
      "k: 5, score 0.6777415637605754\n",
      "k: 6, score 0.5104147694093096\n",
      "k: 7, score 0.6780801245958924\n",
      "k: 8, score 0.6494848988252858\n",
      "k: 9, score 0.5039729078361186\n",
      "k: 10, score 0.5132605636800474\n"
     ]
    }
   ],
   "source": [
    "from pyspark.ml.evaluation import ClusteringEvaluator\n",
    "\n",
    "evaluator = ClusteringEvaluator()\n",
    "score_list = []\n",
    "\n",
    "for k in range(2,11):\n",
    "    kmeans_model = compute_kmeans_model(transformed_df, k)\n",
    "    \n",
    "    transformed = kmeans_model.transform(transformed_df)\n",
    "    \n",
    "    \n",
    "    score = evaluator.evaluate(transformed)\n",
    "    score_list.append(score)\n",
    "    \n",
    "    print(\"k: {}, score {}\".format(k, score))"
   ]
  },
  {
   "cell_type": "markdown",
   "metadata": {},
   "source": [
    "### Adım 2: Final Model\n",
    "\n",
    "Seçtiğiniz küme sayısı ile yeni modeli kurunuz."
   ]
  },
  {
   "cell_type": "code",
   "execution_count": 450,
   "metadata": {},
   "outputs": [],
   "source": [
    "# Pyspark sınıflandırma için Silhoutte metodunu kullanıyor, 1'e yakın olan küme sayısı tercih edilebilir.\n",
    "\n",
    "kmeans = (KMeans() \\\n",
    "          .setSeed(142) \\\n",
    "          .setK(5))"
   ]
  },
  {
   "cell_type": "code",
   "execution_count": 451,
   "metadata": {},
   "outputs": [],
   "source": [
    "kmeans_model = kmeans.fit(transformed_df)"
   ]
  },
  {
   "cell_type": "code",
   "execution_count": 452,
   "metadata": {},
   "outputs": [],
   "source": [
    "transformed = kmeans_model.transform(transformed_df)"
   ]
  },
  {
   "cell_type": "code",
   "execution_count": 453,
   "metadata": {
    "scrolled": true
   },
   "outputs": [
    {
     "name": "stdout",
     "output_type": "stream",
     "text": [
      "+--------------------+---------+------------------+-------+--------------------+--------------------+----------+\n",
      "|           master_id|Frequency|          Monetary|Recency|   unscaled_features|            features|prediction|\n",
      "+--------------------+---------+------------------+-------+--------------------+--------------------+----------+\n",
      "|b3ace094-a17f-11e...|      1.0|            212.98|    829|  [829.0,1.0,212.98]|[3.24793811935259...|         2|\n",
      "|c57d7c4c-a950-11e...|      1.0|            199.98|    548|  [548.0,1.0,199.98]|[2.14700855175539...|         2|\n",
      "|602897a6-cdac-11e...|      1.0|            140.49|    312|  [312.0,1.0,140.49]|[1.22238443092642...|         0|\n",
      "|388e4c4e-af86-11e...|      1.0|            174.99|    883|  [883.0,1.0,174.99]|[3.45950465547447...|         2|\n",
      "|80664354-adf0-11e...|      2.0|            283.95|     27|   [27.0,2.0,283.95]|[0.10578326806094...|         0|\n",
      "|47511f36-aeb4-11e...|      1.0|            139.98|    933|  [933.0,1.0,139.98]|[3.65539959632807...|         2|\n",
      "|77f7c318-3407-11e...|      1.0|             269.9|    182|   [182.0,1.0,269.9]|[0.71305758470708...|         0|\n",
      "|399d6dd2-ecf1-11e...|      1.0|             95.73|    272|   [272.0,1.0,95.73]|[1.06566847824355...|         0|\n",
      "|b3d4a6f2-a368-11e...|      3.0|            207.94|    250|  [250.0,3.0,207.94]|[0.97947470426797...|         0|\n",
      "|42fdccd4-f1d1-11e...|      1.0|            134.95|    226|  [226.0,1.0,134.95]|[0.88544513265824...|         0|\n",
      "|071b497c-a5d2-11e...|      7.0|            399.94|     71|   [71.0,7.0,399.94]|[0.27817081601210...|         0|\n",
      "|47d99768-30ea-11e...|      2.0|            304.89|    667|  [667.0,2.0,304.89]|[2.61323851098695...|         2|\n",
      "|f879c85e-5322-11e...|      1.0|            100.49|    488|  [488.0,1.0,100.49]|[1.91193462273108...|         2|\n",
      "|cfb38c70-b1e7-11e...|      3.0|208.95999999999998|    507|[507.0,3.0,208.95...|[1.98637470025544...|         2|\n",
      "|96cae10c-bbd1-11e...|      2.0|            359.96|    335|  [335.0,2.0,359.96]|[1.31249610371908...|         0|\n",
      "|20df63fa-5411-11e...|      1.0|             39.99|    501|   [501.0,1.0,39.99]|[1.96286730735301...|         2|\n",
      "|757fc81a-7378-11e...|      2.0|            630.94|     67|   [67.0,2.0,630.94]|[0.26249922074381...|         0|\n",
      "|c9fcbc34-d739-11e...|      1.0|            289.99|    300|  [300.0,1.0,289.99]|[1.17536964512156...|         0|\n",
      "|9f44ad8c-21fc-11e...|      1.0|            189.99|    788|  [788.0,1.0,189.99]|[3.08730426785264...|         2|\n",
      "|3fcf9680-9765-11e...|      1.0|             89.99|    385|   [385.0,1.0,89.99]|[1.50839104457267...|         2|\n",
      "+--------------------+---------+------------------+-------+--------------------+--------------------+----------+\n",
      "only showing top 20 rows\n",
      "\n"
     ]
    }
   ],
   "source": [
    "transformed.show()"
   ]
  },
  {
   "cell_type": "markdown",
   "metadata": {},
   "source": [
    "### Adım 3: Tanımlayıcı İstatistikler \n",
    "Oluşturduğunuz kümelerin tanımlayıcı istatistiklerini inceleyiniz."
   ]
  },
  {
   "cell_type": "code",
   "execution_count": 484,
   "metadata": {},
   "outputs": [
    {
     "name": "stdout",
     "output_type": "stream",
     "text": [
      "+----------+-----+------------------+------------------+------------------+\n",
      "|prediction|count|      avg_monetary|       avg_recency|     avg_frequency|\n",
      "+----------+-----+------------------+------------------+------------------+\n",
      "|         1|    3|          37469.96| 536.6666666666666| 306.3333333333333|\n",
      "|         3|   17|13068.847058823529|169.05882352941177| 91.23529411764706|\n",
      "|         4| 4072|1544.8937328094296|189.84037328094303| 9.520383104125736|\n",
      "|         0|41794| 307.9166727281978|173.99028568694072|2.0373020050724984|\n",
      "|         2|54114|179.52782311424278| 615.5692427098348| 1.445928964778061|\n",
      "+----------+-----+------------------+------------------+------------------+\n",
      "\n"
     ]
    }
   ],
   "source": [
    "from pyspark.sql.functions import sum, col, desc, mean, count\n",
    "transformed.groupBy(\"prediction\") \\\n",
    "  .agg(count(\"Monetary\").alias('count'), \\\n",
    "       mean(\"Monetary\").alias(\"avg_monetary\"), \\\n",
    "       mean(\"Recency\").alias(\"avg_recency\"), \\\n",
    "       mean(\"Frequency\").alias(\"avg_frequency\")) \\\n",
    "  .sort(desc(\"avg_monetary\")) \\\n",
    "  .show()"
   ]
  }
 ],
 "metadata": {
  "interpreter": {
   "hash": "95af24b8029fb328d7cffb4501d75a597ad7782528ab87b4bdaf7c4c669d7564"
  },
  "kernelspec": {
   "display_name": "Python 3.9.12 ('base')",
   "language": "python",
   "name": "python3"
  },
  "language_info": {
   "codemirror_mode": {
    "name": "ipython",
    "version": 3
   },
   "file_extension": ".py",
   "mimetype": "text/x-python",
   "name": "python",
   "nbconvert_exporter": "python",
   "pygments_lexer": "ipython3",
   "version": "3.9.12"
  }
 },
 "nbformat": 4,
 "nbformat_minor": 4
}
